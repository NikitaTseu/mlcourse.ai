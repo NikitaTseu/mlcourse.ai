{
 "cells": [
  {
   "cell_type": "markdown",
   "metadata": {},
   "source": [
    "# Created by Tseu Nikita"
   ]
  },
  {
   "cell_type": "markdown",
   "metadata": {},
   "source": [
    "## Part 1: Imports & initialization"
   ]
  },
  {
   "cell_type": "code",
   "execution_count": 1,
   "metadata": {},
   "outputs": [],
   "source": [
    "import numpy as np\n",
    "import pandas as pd\n",
    "from matplotlib import pyplot as plt"
   ]
  },
  {
   "cell_type": "code",
   "execution_count": 2,
   "metadata": {},
   "outputs": [],
   "source": [
    "a, b, step, step2 = (1.0, 2.0, 0.05, 0.1)\n",
    "u1_0, u2_0 = (1, -1)\n",
    "n = int((b-a)/step)+1\n",
    "n2 = int((b-a)/step2)+1"
   ]
  },
  {
   "cell_type": "code",
   "execution_count": 3,
   "metadata": {},
   "outputs": [],
   "source": [
    "t = np.linspace(a, b, n)\n",
    "t2 = np.linspace(a, b, n2)\n",
    "y1_0 = 1/t\n",
    "y2_0 = -1/(t**2)"
   ]
  },
  {
   "cell_type": "code",
   "execution_count": 4,
   "metadata": {},
   "outputs": [],
   "source": [
    "y1r = np.zeros(n, dtype = float)\n",
    "y1a = np.zeros(n, dtype = float)\n",
    "y1t = np.zeros(n, dtype = float)\n",
    "y1r_2 = np.zeros(n2, dtype = float)\n",
    "y1t_2 = np.zeros(n2, dtype = float)\n",
    "y1r[0], y1a[0], y1t[0], y1r_2[0], y1t_2[0] = u1_0, u1_0, u1_0, u1_0, u1_0\n",
    "\n",
    "y2r = np.zeros(n, dtype = float)\n",
    "y2a = np.zeros(n, dtype = float)\n",
    "y2t = np.zeros(n, dtype = float)\n",
    "y2r_2 = np.zeros(n2, dtype = float)\n",
    "y2t_2 = np.zeros(n2, dtype = float)\n",
    "y2r[0], y2a[0], y2t[0], y2r_2[0], y2t_2[0] = u2_0, u2_0, u2_0, u2_0, u2_0"
   ]
  },
  {
   "cell_type": "markdown",
   "metadata": {},
   "source": [
    "## Part 2: Implementing mathematical methods"
   ]
  },
  {
   "cell_type": "code",
   "execution_count": 5,
   "metadata": {},
   "outputs": [],
   "source": [
    "def fx(x):\n",
    "    return (x**2 - 2)/x**2"
   ]
  },
  {
   "cell_type": "code",
   "execution_count": 6,
   "metadata": {},
   "outputs": [],
   "source": [
    "def f1(t, y1, y2):\n",
    "    return y2"
   ]
  },
  {
   "cell_type": "code",
   "execution_count": 7,
   "metadata": {},
   "outputs": [],
   "source": [
    "def f2(t, y1, y2):\n",
    "    return -t*y2 - ((t**2 - 2)/t**2)*y1"
   ]
  },
  {
   "cell_type": "markdown",
   "metadata": {},
   "source": [
    "#### 2.1: Runge–Kutta method"
   ]
  },
  {
   "cell_type": "code",
   "execution_count": 8,
   "metadata": {},
   "outputs": [],
   "source": [
    "def runge_iteration_y1(t, y1, y2, j, step):\n",
    "    k1 = f1(t[j], y1[j], y2[j])\n",
    "    k2 = f1(t[j] + step/2, y1[j] + k1*step/2, y2[j] + k1*step/2)\n",
    "    k3 = f1(t[j] + step, y1[j] - k1*step + 2*k2*step, y2[j] - k1*step + 2*k2*step)\n",
    "    return y1[j] + (step/6)*(k1 + 4*k2 + k3)"
   ]
  },
  {
   "cell_type": "code",
   "execution_count": 9,
   "metadata": {},
   "outputs": [],
   "source": [
    "def runge_iteration_y2(t, y1, y2, j, step):\n",
    "    k1 = f2(t[j], y1[j], y2[j])\n",
    "    k2 = f2(t[j] + step/2, y1[j] + k1*step/2, y2[j] + k1*step/2)\n",
    "    k3 = f2(t[j] + step, y1[j] - k1*step + 2*k2*step, y2[j] - k1*step + 2*k2*step)\n",
    "    return y2[j] + (step/6)*(k1 + 4*k2 + k3)"
   ]
  },
  {
   "cell_type": "code",
   "execution_count": 10,
   "metadata": {},
   "outputs": [],
   "source": [
    "def runge_iteration_y(t, y1, y2, j, step):\n",
    "    k1 = f1(t[j], y1[j], y2[j])\n",
    "    q1 = f2(t[j], y1[j], y2[j])\n",
    "    k2 = f1(t[j] + step/2, y1[j] + k1*step/2, y2[j] + q1*step/2)\n",
    "    q2 = f2(t[j] + step/2, y1[j] + k1*step/2, y2[j] + q1*step/2)\n",
    "    k3 = f1(t[j] + step, y1[j] - k1*step + 2*k2*step, y2[j] - q1*step + 2*q2*step)\n",
    "    q3 = f2(t[j] + step, y1[j] - k1*step + 2*k2*step, y2[j] - q1*step + 2*q2*step)\n",
    "    return (y1[j] + (step/6)*(k1 + 4*k2 + k3), y2[j] + (step/6)*(q1 + 4*q2 + q3))"
   ]
  },
  {
   "cell_type": "markdown",
   "metadata": {},
   "source": [
    "#### 2.2: Adams' method"
   ]
  },
  {
   "cell_type": "code",
   "execution_count": 11,
   "metadata": {},
   "outputs": [],
   "source": [
    "def adams_iteration_y1(t, y1, y2, j, step):\n",
    "    return y1[j] + (step/12)*(23 * f1(t[j], y1[j], y2[j]) - \n",
    "                              16 * f1(t[j-1], y1[j-1], y2[j-1]) + \n",
    "                              5 * f1(t[j-2], y1[j-2], y2[j-2]))"
   ]
  },
  {
   "cell_type": "code",
   "execution_count": 12,
   "metadata": {},
   "outputs": [],
   "source": [
    "def adams_iteration_y2(t, y1, y2, j, step):\n",
    "    return y2[j] + (step/12)*(23 * f2(t[j], y1[j], y2[j]) - \n",
    "                              16 * f2(t[j-1], y1[j-1], y2[j-1]) + \n",
    "                              5 * f2(t[j-2], y1[j-2], y2[j-2]))"
   ]
  },
  {
   "cell_type": "markdown",
   "metadata": {},
   "source": [
    "#### 2.3: Trapezium method"
   ]
  },
  {
   "cell_type": "code",
   "execution_count": 13,
   "metadata": {},
   "outputs": [],
   "source": [
    "def trapezium_iteration(t, y1, y2, j, step):\n",
    "    a1 = step/2\n",
    "    b1 = y1[j] + step*y2[j]/2\n",
    "    a2 = step*t[j+1]/2\n",
    "    b2 = y2[j] - step*t[j]*y2[j]/2 - step*fx(t[j])*y1[j]/2\n",
    "    c2 = step*fx(t[j+1])/2\n",
    "    \n",
    "    x2 = (b2 - c2*b1)/(1 + a2 + c2*a1)\n",
    "    x1 = b1 + a1*x2\n",
    "    return (x1, x2)"
   ]
  },
  {
   "cell_type": "markdown",
   "metadata": {},
   "source": [
    "## Part 3: Value table calculation "
   ]
  },
  {
   "cell_type": "code",
   "execution_count": 14,
   "metadata": {},
   "outputs": [],
   "source": [
    "for j in range(1, n):\n",
    "    y1r[j], y2r[j] = runge_iteration_y(t, y1r, y2r, j-1, step)\n",
    "    \n",
    "for j in range(1, n2):\n",
    "    y1r_2[j], y2r_2[j] = runge_iteration_y(t2, y1r_2, y2r_2, j-1, step2)"
   ]
  },
  {
   "cell_type": "code",
   "execution_count": 15,
   "metadata": {},
   "outputs": [],
   "source": [
    "#plt.plot(t2, y1r_2, color='red')\n",
    "#plt.plot(t, y1_0, color='green')"
   ]
  },
  {
   "cell_type": "code",
   "execution_count": 16,
   "metadata": {},
   "outputs": [],
   "source": [
    "for j in range(1, 3):\n",
    "    y1a[j] = y1r[j]\n",
    "    y2a[j] = y2r[j]"
   ]
  },
  {
   "cell_type": "code",
   "execution_count": 17,
   "metadata": {},
   "outputs": [],
   "source": [
    "for j in range(3, n):\n",
    "    y1a[j] = adams_iteration_y1(t, y1a, y2a, j-1, step)\n",
    "    y2a[j] = adams_iteration_y2(t, y1a, y2a, j-1, step)"
   ]
  },
  {
   "cell_type": "code",
   "execution_count": 18,
   "metadata": {},
   "outputs": [],
   "source": [
    "for j in range(1, n):\n",
    "    y1t[j], y2t[j] = trapezium_iteration(t, y1t, y2t, j-1, step)\n",
    "    \n",
    "for j in range(1, n2):\n",
    "    y1t_2[j], y2t_2[j] = trapezium_iteration(t2, y1t_2, y2t_2, j-1, step2)"
   ]
  },
  {
   "cell_type": "markdown",
   "metadata": {},
   "source": [
    "## Part 4: Error calculation"
   ]
  },
  {
   "cell_type": "code",
   "execution_count": 19,
   "metadata": {},
   "outputs": [
    {
     "data": {
      "text/plain": [
       "1.2423724358564695e-05"
      ]
     },
     "execution_count": 19,
     "metadata": {},
     "output_type": "execute_result"
    }
   ],
   "source": [
    "err_r_1 = max(max(np.absolute(y1r[::2] - y1r_2)), max(np.absolute(y2r[::2] - y2r_2))) / 7\n",
    "err_r_1"
   ]
  },
  {
   "cell_type": "code",
   "execution_count": 20,
   "metadata": {},
   "outputs": [
    {
     "data": {
      "text/plain": [
       "0.0006700460738957951"
      ]
     },
     "execution_count": 20,
     "metadata": {},
     "output_type": "execute_result"
    }
   ],
   "source": [
    "err_t_1 = max(max(np.absolute(y1t[::2] - y1t_2)), max(np.absolute(y2t[::2] - y2t_2))) / 3\n",
    "err_t_1"
   ]
  },
  {
   "cell_type": "code",
   "execution_count": 21,
   "metadata": {},
   "outputs": [
    {
     "data": {
      "text/plain": [
       "1.1149368878360377e-05"
      ]
     },
     "execution_count": 21,
     "metadata": {},
     "output_type": "execute_result"
    }
   ],
   "source": [
    "err_r_2 = max(max(np.absolute(y1_0 - y1r)), max(np.absolute(y2_0 - y2r)))\n",
    "err_r_2"
   ]
  },
  {
   "cell_type": "code",
   "execution_count": 22,
   "metadata": {},
   "outputs": [
    {
     "data": {
      "text/plain": [
       "0.0005168018360139359"
      ]
     },
     "execution_count": 22,
     "metadata": {},
     "output_type": "execute_result"
    }
   ],
   "source": [
    "err_a_2 = max(max(np.absolute(y1_0 - y1a)), max(np.absolute(y2_0 - y2a)))\n",
    "err_a_2"
   ]
  },
  {
   "cell_type": "code",
   "execution_count": 23,
   "metadata": {},
   "outputs": [
    {
     "data": {
      "text/plain": [
       "0.0006694224515360059"
      ]
     },
     "execution_count": 23,
     "metadata": {},
     "output_type": "execute_result"
    }
   ],
   "source": [
    "err_t_2 = max(max(np.absolute(y1_0 - y1t)), max(np.absolute(y2_0 - y2t)))\n",
    "err_t_2"
   ]
  },
  {
   "cell_type": "markdown",
   "metadata": {},
   "source": [
    "## Part 5: Export results"
   ]
  },
  {
   "cell_type": "code",
   "execution_count": 24,
   "metadata": {},
   "outputs": [],
   "source": [
    "d = {'t_j':t, 'y1_0':y1_0, 'y2_0':y2_0, 'y1r':y1r, 'y2r':y2r, 'y1a':y1a, 'y2a':y2a, 'y1t':y1t, 'y2t':y2t}"
   ]
  },
  {
   "cell_type": "code",
   "execution_count": 25,
   "metadata": {},
   "outputs": [],
   "source": [
    "df = pd.DataFrame(data = d)\n",
    "df = df.to_excel(\"output2.xlsx\")"
   ]
  },
  {
   "cell_type": "code",
   "execution_count": null,
   "metadata": {},
   "outputs": [],
   "source": []
  },
  {
   "cell_type": "code",
   "execution_count": null,
   "metadata": {},
   "outputs": [],
   "source": []
  }
 ],
 "metadata": {
  "kernelspec": {
   "display_name": "Python 3",
   "language": "python",
   "name": "python3"
  },
  "language_info": {
   "codemirror_mode": {
    "name": "ipython",
    "version": 3
   },
   "file_extension": ".py",
   "mimetype": "text/x-python",
   "name": "python",
   "nbconvert_exporter": "python",
   "pygments_lexer": "ipython3",
   "version": "3.6.6"
  }
 },
 "nbformat": 4,
 "nbformat_minor": 2
}
